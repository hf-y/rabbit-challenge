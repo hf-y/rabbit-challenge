{
 "cells": [
  {
   "cell_type": "markdown",
   "metadata": {},
   "source": [
    "# 1. 線形回帰"
   ]
  },
  {
   "cell_type": "markdown",
   "metadata": {},
   "source": [
    "## 1-1. 要約"
   ]
  },
  {
   "cell_type": "markdown",
   "metadata": {},
   "source": [
    "データを直線で近似することは機械学習という概念が明確になる以前から行われてきたが, これを学習器を１次式に, 損失関数を MSE にとった場合の回帰問題として定式化できる. 線形回帰では最小二乗法ととしてよく知られているように, 学習パラメータ（1次式の係数）をデータで解析的に表現できる."
   ]
  },
  {
   "cell_type": "markdown",
   "metadata": {},
   "source": [
    "## 1-2. 実装演習実施結果"
   ]
  },
  {
   "cell_type": "markdown",
   "metadata": {},
   "source": [
    "\r\n",
    "\r\n",
    "![](./skl_regression_first.png)\r\n",
    "\r\n",
    "![](./skl_regression_last.png)\r\n"
   ]
  },
  {
   "cell_type": "markdown",
   "metadata": {},
   "source": [
    "## 1-3. 考察"
   ]
  },
  {
   "cell_type": "markdown",
   "metadata": {},
   "source": []
  }
 ],
 "metadata": {
  "interpreter": {
   "hash": "4257a72093a6818c0e805e78a0416bc88840ef83fc57f07bf8ef31bee47dc27f"
  },
  "kernelspec": {
   "display_name": "Python 3.7.7 64-bit ('all')",
   "name": "python3"
  },
  "language_info": {
   "codemirror_mode": {
    "name": "ipython",
    "version": 3
   },
   "file_extension": ".py",
   "mimetype": "text/x-python",
   "name": "python",
   "nbconvert_exporter": "python",
   "pygments_lexer": "ipython3",
   "version": "3.7.7"
  },
  "orig_nbformat": 4
 },
 "nbformat": 4,
 "nbformat_minor": 2
}