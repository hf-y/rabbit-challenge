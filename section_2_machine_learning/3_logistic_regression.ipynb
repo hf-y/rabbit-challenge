{
 "cells": [
  {
   "cell_type": "markdown",
   "metadata": {},
   "source": [
    "# 3. ロジスティック回帰"
   ]
  },
  {
   "cell_type": "markdown",
   "metadata": {},
   "source": [
    "## 3-1. 要約"
   ]
  },
  {
   "cell_type": "markdown",
   "metadata": {},
   "source": [
    "ロジスティック回帰では説明変数にシグモイド関数を適用した値を $\\{0, 1\\}$-分類問題のクラス $1$ に属する確率とみなす.\r\n",
    "機械学習としてはシグモイド関数を学習モデルとし, 損失関数を交差エントロピーとしたものと考えることができる. \r\n",
    "また, 一般化線形モデルという枠組みではリンク関数が対数関数の場合に相当する."
   ]
  },
  {
   "cell_type": "markdown",
   "metadata": {},
   "source": [
    "## 3-2. 実装演習実施結果"
   ]
  },
  {
   "cell_type": "markdown",
   "metadata": {},
   "source": [
    "![](./image/skl_logistic_regression_last.png)"
   ]
  }
 ],
 "metadata": {
  "interpreter": {
   "hash": "26ba46d4ddfbbb7434ae4df4c2c95f7e59dc161bdd1bad6b7cd3d053f0e418ca"
  },
  "kernelspec": {
   "display_name": "Python 3.7.7 64-bit ('atma10': venv)",
   "name": "python3"
  },
  "language_info": {
   "name": "python",
   "version": ""
  },
  "orig_nbformat": 4
 },
 "nbformat": 4,
 "nbformat_minor": 2
}