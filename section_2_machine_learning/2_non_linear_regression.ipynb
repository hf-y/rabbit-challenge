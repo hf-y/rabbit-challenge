{
 "cells": [
  {
   "cell_type": "markdown",
   "metadata": {},
   "source": [
    "# 2. 非線形回帰"
   ]
  },
  {
   "cell_type": "markdown",
   "metadata": {},
   "source": [
    "## 2-1. 要約"
   ]
  },
  {
   "cell_type": "markdown",
   "metadata": {},
   "source": [
    "講義では非線形回帰として基底関数の線形結合を学習モデルとする場合（基底関数展開）を取り扱った. 結合係数が学習パラメータである. 一般に入力に対して基底関数は非線形だが, 学習パラメータについては線形である（linear-in-parameter）.\r\n",
    "\r\n",
    "この回では正則化も扱い, Rige 回帰（$L^{2}$ 正則化）と Lasso（$L^{1}$ 正則化）に簡単に触れた."
   ]
  },
  {
   "cell_type": "markdown",
   "metadata": {},
   "source": [
    "## 2-2. 実装演習実施結果"
   ]
  },
  {
   "cell_type": "markdown",
   "metadata": {},
   "source": [
    "![](./image/skl_nonlinear_regression_last.png)"
   ]
  }
 ],
 "metadata": {
  "interpreter": {
   "hash": "26ba46d4ddfbbb7434ae4df4c2c95f7e59dc161bdd1bad6b7cd3d053f0e418ca"
  },
  "kernelspec": {
   "display_name": "Python 3.7.7 64-bit ('atma10': venv)",
   "name": "python3"
  },
  "language_info": {
   "name": "python",
   "version": ""
  },
  "orig_nbformat": 4
 },
 "nbformat": 4,
 "nbformat_minor": 2
}