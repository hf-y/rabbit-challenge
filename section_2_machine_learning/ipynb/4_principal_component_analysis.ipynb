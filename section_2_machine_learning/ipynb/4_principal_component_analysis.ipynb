{
 "cells": [
  {
   "cell_type": "markdown",
   "source": [
    "# 4. 主成分分析"
   ],
   "metadata": {}
  },
  {
   "cell_type": "markdown",
   "source": [
    "## 4-1. 要約"
   ],
   "metadata": {}
  },
  {
   "cell_type": "markdown",
   "source": [
    "主成分分析とはデータを主成分に分解することである. 主成分とはデータの散らばり（分散）が最も大きな方向にデータを射影した値である. 最初に得られた主成分（第一主成分）に直行する方向に射影したデータで同じ操作を行い, 次々と第二主成分, 第三主成分を得ることができる.\r\n",
    "\r\n",
    "これは分散共分散行列の固有値分解に対応し, 主成分の順序は固有値の大きさに対応する. また固有値に対応する固有ベクトルが当該主成分の方向を定める.\r\n",
    "\r\n",
    "データの次元を $n$ とするとき, 第 $n$ 主成分まで考慮すると元のデータを復元できる. 通常は適当な成分までにとどめてデータの次元圧縮に用いる."
   ],
   "metadata": {}
  },
  {
   "cell_type": "markdown",
   "source": [
    "## 4-2. 実装演習実施結果"
   ],
   "metadata": {}
  },
  {
   "cell_type": "markdown",
   "source": [
    "![skl_pca_last.png](../image/skl_pca_last.png)"
   ],
   "metadata": {}
  }
 ],
 "metadata": {
  "interpreter": {
   "hash": "26ba46d4ddfbbb7434ae4df4c2c95f7e59dc161bdd1bad6b7cd3d053f0e418ca"
  },
  "kernelspec": {
   "display_name": "Python 3.7.7 64-bit ('atma10': venv)",
   "name": "python3"
  },
  "language_info": {
   "name": "python",
   "version": ""
  },
  "orig_nbformat": 4
 },
 "nbformat": 4,
 "nbformat_minor": 2
}