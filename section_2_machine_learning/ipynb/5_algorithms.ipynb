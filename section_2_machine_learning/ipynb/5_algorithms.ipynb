{
 "cells": [
  {
   "cell_type": "markdown",
   "source": [
    "# 5. アルゴリズム"
   ],
   "metadata": {}
  },
  {
   "cell_type": "markdown",
   "source": [
    "## 5-1. 要約"
   ],
   "metadata": {}
  },
  {
   "cell_type": "markdown",
   "source": [
    "アルゴリズムというタイトルだが, ここでは $k$-meansを扱う.\r\n",
    "\r\n",
    "$k$-meansはクラスタリングのアルゴリズムである. $k$ はクラスタ数だが事前に人が決めなければならない. \r\n",
    "最初はデータから $k$ 個の代表点をランダムに選び, そのどれかに各データ点を所属させる. \r\n",
    "この割り当ての際は最も近い点を選ぶ. \r\n",
    "次に $k$ 個の代表点ごとに所属するデータ点の重心を求める. \r\n",
    "このようにして得られた $k$ 個の重心を次の代表点として今までの計算を繰り返す.\r\n",
    "収束判定は通常, 代表点までの距離の総和の変化量で行う（閾値より小さくなった場合に収束と判定）.\r\n",
    "\r\n",
    "$k$-meansは初期値（最初に選んだ点）によっては上手くクラスタリングできないことがある. 2007年に提案された$k$-means++ というアルゴリズムではこの点を改良している. なお, $k$ の値を評価する方法も提案されており, Puseudo F(Calinski and Harabasz, 1974)などがある."
   ],
   "metadata": {}
  },
  {
   "cell_type": "markdown",
   "source": [
    "## 5-2. 実装演習実施結果"
   ],
   "metadata": {}
  },
  {
   "cell_type": "markdown",
   "source": [
    "![skl_kmeans_last.png](../image/skl_kmeans_last.png)"
   ],
   "metadata": {}
  }
 ],
 "metadata": {
  "interpreter": {
   "hash": "26ba46d4ddfbbb7434ae4df4c2c95f7e59dc161bdd1bad6b7cd3d053f0e418ca"
  },
  "kernelspec": {
   "display_name": "Python 3.7.7 64-bit ('atma10': venv)",
   "name": "python3"
  },
  "language_info": {
   "name": "python",
   "version": ""
  },
  "orig_nbformat": 4
 },
 "nbformat": 4,
 "nbformat_minor": 2
}