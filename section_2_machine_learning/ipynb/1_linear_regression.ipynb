{
 "cells": [
  {
   "cell_type": "markdown",
   "source": [
    "# 1. 線形回帰"
   ],
   "metadata": {}
  },
  {
   "cell_type": "markdown",
   "source": [
    "## 1-1. 要約"
   ],
   "metadata": {}
  },
  {
   "cell_type": "markdown",
   "source": [
    "データを直線で近似することは機械学習という概念が明確になる以前から行われてきたが, これを学習器を１次式に, 損失関数を MSE にとった場合の回帰問題として定式化できる. 線形回帰ではよく知られているように最小二乗法の結果として, 学習パラメータ（1次式の係数）をデータで解析的に表現できる. \r\n",
    "\r\n",
    "説明変数に値 $1$ をとる成分を追加すると, 定数項（１次式の切片）を含めて結果を訓練データを並べた行列（デザイン行列）を使って書くことができる. 特に興味深いのはフルランクでない場合で, Moor-Penroseの一般化逆行列が登場する."
   ],
   "metadata": {}
  },
  {
   "cell_type": "markdown",
   "source": [
    "## 1-2. 実装演習実施結果"
   ],
   "metadata": {}
  },
  {
   "cell_type": "markdown",
   "source": [
    "\r\n",
    "![skl_regression_first.png](../image/skl_regression_first.png)\r\n",
    "\r\n",
    "![skl_regression_last.png](../image/skl_regression_last.png)\r\n"
   ],
   "metadata": {}
  }
 ],
 "metadata": {
  "interpreter": {
   "hash": "4257a72093a6818c0e805e78a0416bc88840ef83fc57f07bf8ef31bee47dc27f"
  },
  "kernelspec": {
   "display_name": "Python 3.7.7 64-bit ('all')",
   "name": "python3"
  },
  "language_info": {
   "codemirror_mode": {
    "name": "ipython",
    "version": 3
   },
   "file_extension": ".py",
   "mimetype": "text/x-python",
   "name": "python",
   "nbconvert_exporter": "python",
   "pygments_lexer": "ipython3",
   "version": "3.7.7"
  },
  "orig_nbformat": 4
 },
 "nbformat": 4,
 "nbformat_minor": 2
}