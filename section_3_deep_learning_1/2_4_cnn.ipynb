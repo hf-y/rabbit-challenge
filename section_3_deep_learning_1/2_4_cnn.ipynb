{
 "cells": [
  {
   "cell_type": "markdown",
   "source": [
    "# Deep Learning Day 2"
   ],
   "metadata": {}
  },
  {
   "cell_type": "markdown",
   "source": [
    "## 4 畳み込みニューラルネットワーク"
   ],
   "metadata": {}
  },
  {
   "cell_type": "markdown",
   "source": [
    "### 4-1 要点"
   ],
   "metadata": {}
  },
  {
   "cell_type": "markdown",
   "source": [
    "畳み込みニューラルネットワーク（CNN）はニューラルネットで画像を扱う場合によく用いられる. \r\n",
    "CNNはその名の通り畳み込み演算を含むネットワークで, deep learningブーム初期のベースラインとなったモデル（AlexNetやVGG）では, 畳み込み演算とpoolingを繰り返す構造が採用された.\r\n",
    "ネットワーク上の位置としては\r\n",
    "1. 畳み込み\r\n",
    "2. 活性化関数\r\n",
    "3. pooling\r\n",
    "\r\n",
    "の順である.\r\n",
    "ただし, より現代的なアーキテクチャではこれにバッチ正則化やskip-connectionを追加するためもう少し複雑な見た目になる.\r\n",
    "\r\n",
    "畳み込みは以下のパラメータを持つ.\r\n",
    "* カーネル（フィルタ）のサイズ\r\n",
    "* ストライド\r\n",
    "* パディング\r\n",
    "\r\n",
    "poolingもサイズを持ち, 代表的なものとして以下がある.\r\n",
    "* max pooling\r\n",
    "* average pooling"
   ],
   "metadata": {}
  },
  {
   "cell_type": "markdown",
   "source": [
    "### 4-2 実装演習結果"
   ],
   "metadata": {}
  },
  {
   "cell_type": "markdown",
   "source": [
    "[2_6_simple_convolution_network](exercise/2_6_simple_convolution_network.html)\r\n",
    "\r\n",
    "[2_6_simple_convolution_network_after](exercise/2_6_simple_convolution_network_after.html)\r\n",
    "\r\n",
    "[2_7_double_comvolution_network](exercise/2_7_double_comvolution_network.html)\r\n",
    "\r\n",
    "[2_7_double_comvolution_network_after](exercise/2_7_double_comvolution_network_after.html)\r\n",
    "\r\n",
    "[2_8_deep_convolution_net](exercise/2_8_deep_convolution_net.html)"
   ],
   "metadata": {}
  },
  {
   "cell_type": "markdown",
   "source": [
    "### 1-3 考察など"
   ],
   "metadata": {}
  },
  {
   "cell_type": "markdown",
   "source": [
    "近年では畳み込みのカーネルサイズは 3 に, poolingのサイズは 2 にすることが多い.\r\n",
    "また, 分類問題の最終層では, サイズを当該層のサイズとしたpoolingもGradCAMとの兼ね合いでよく採用される. \r\n",
    "この場合はGlobalを付けてGlobal max poolingのように呼ばれる."
   ],
   "metadata": {}
  }
 ],
 "metadata": {
  "orig_nbformat": 4,
  "language_info": {
   "name": "python"
  }
 },
 "nbformat": 4,
 "nbformat_minor": 2
}