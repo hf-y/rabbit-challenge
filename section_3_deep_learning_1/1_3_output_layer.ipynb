{
 "cells": [
  {
   "cell_type": "markdown",
   "source": [
    "# Deep Learning Day 1 "
   ],
   "metadata": {}
  },
  {
   "cell_type": "markdown",
   "source": [
    "## 3 出力層"
   ],
   "metadata": {}
  },
  {
   "cell_type": "markdown",
   "source": [
    "### 3-1 要点"
   ],
   "metadata": {}
  },
  {
   "cell_type": "markdown",
   "source": [
    "出力層とはニューラルネットの最終層のことである. \r\n",
    "出力層の値と正解データから誤差関数を計算する. 学習とはこの誤差関数に正則化項を加えたものを損失関数とし, その小さくするように学習パラメータを更新することである. パラメータ更新の具体的な方法は次のセクションで扱う.\r\n",
    "\r\n",
    "出力層の活性化関数には, 分類問題の場合はsoftmax関数を, 回帰問題の場合を恒等関数を用いることが多い.  また, それぞれ誤差関数は, 交差エントロピーと二乗誤差が用いられる."
   ],
   "metadata": {}
  },
  {
   "cell_type": "markdown",
   "source": [
    "### 3-2 実装演習結果"
   ],
   "metadata": {}
  },
  {
   "cell_type": "markdown",
   "source": [
    "[1_1_forward_propagation](exercise/1_1_forward_propagation.html)"
   ],
   "metadata": {}
  },
  {
   "cell_type": "markdown",
   "source": [
    "### 3-3 考察など"
   ],
   "metadata": {}
  },
  {
   "cell_type": "markdown",
   "source": [],
   "metadata": {}
  }
 ],
 "metadata": {
  "orig_nbformat": 4,
  "language_info": {
   "name": "python"
  }
 },
 "nbformat": 4,
 "nbformat_minor": 2
}