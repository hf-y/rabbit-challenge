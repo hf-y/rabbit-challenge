{
 "cells": [
  {
   "cell_type": "markdown",
   "source": [
    "# Deep Learning Day 1"
   ],
   "metadata": {}
  },
  {
   "cell_type": "markdown",
   "source": [
    "## 5 誤差逆伝播法"
   ],
   "metadata": {}
  },
  {
   "cell_type": "markdown",
   "source": [
    "### 5-1 要点"
   ],
   "metadata": {}
  },
  {
   "cell_type": "markdown",
   "source": [
    "勾配降下する際に損失関数を数値微分すると効率が悪い.\r\n",
    "これを微分の連鎖律を用いて効率的に計算する方法が誤差逆伝播法である.\r\n",
    "\r\n",
    "誤差逆伝播法の計算は計算グラフを用いるとわかりやすい. 計算グラフは変数の和や積をノードとしたグラフで, 入力層から出力層に向かって誤差関数を計算するまでの過程を表す. 誤差逆伝播法の際は計算グラフを出力層の側から微分を求めたい変数に向かってたどる."
   ],
   "metadata": {}
  },
  {
   "cell_type": "markdown",
   "source": [
    "### 5-2 実装演習結果"
   ],
   "metadata": {}
  },
  {
   "cell_type": "markdown",
   "source": [
    "[1_2_back_propagation](exercise/1_2_back_propagation.html)"
   ],
   "metadata": {}
  },
  {
   "cell_type": "markdown",
   "source": [
    "### 5-3 考察など"
   ],
   "metadata": {}
  },
  {
   "cell_type": "markdown",
   "source": [
    "誤差逆伝播法は技術的には自動微分と同じである（reverse mode の自動微分に相当）. \r\n",
    "計算機で微分を行う方法には他に数式微分がある. \r\n",
    "数式微分は微分を求めたい変数に関して, 微分を関数として求めたのちに値を代入することで微分値を得る方法である."
   ],
   "metadata": {}
  }
 ],
 "metadata": {
  "orig_nbformat": 4,
  "language_info": {
   "name": "python"
  }
 },
 "nbformat": 4,
 "nbformat_minor": 2
}