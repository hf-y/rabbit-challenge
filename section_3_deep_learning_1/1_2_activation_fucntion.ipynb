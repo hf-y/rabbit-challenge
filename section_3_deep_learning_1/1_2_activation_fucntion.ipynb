{
 "cells": [
  {
   "cell_type": "markdown",
   "source": [
    "# Deep Learning Day 1 "
   ],
   "metadata": {}
  },
  {
   "cell_type": "markdown",
   "source": [
    "## 2 活性化関数"
   ],
   "metadata": {}
  },
  {
   "cell_type": "markdown",
   "source": [
    "活性化関数はニューラルネットの各層の最後に成分ごとに適用される非線形変換で, 例えば以下のようなものが用いられる.\r\n",
    "\r\n",
    "* sigmoid\r\n",
    "* softmax\r\n",
    "* tanh\r\n",
    "* ReLU\r\n",
    "* eReLU\r\n",
    "* Leaky ReLU"
   ],
   "metadata": {}
  },
  {
   "cell_type": "markdown",
   "source": [
    "## 2-2 実装演習結果"
   ],
   "metadata": {}
  },
  {
   "cell_type": "markdown",
   "source": [],
   "metadata": {}
  },
  {
   "cell_type": "markdown",
   "source": [
    "## 2-3 考察など"
   ],
   "metadata": {}
  },
  {
   "cell_type": "markdown",
   "source": [],
   "metadata": {}
  }
 ],
 "metadata": {
  "orig_nbformat": 4,
  "language_info": {
   "name": "python"
  }
 },
 "nbformat": 4,
 "nbformat_minor": 2
}