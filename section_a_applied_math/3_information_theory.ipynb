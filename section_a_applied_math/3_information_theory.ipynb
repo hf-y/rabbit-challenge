{
 "cells": [
  {
   "cell_type": "markdown",
   "metadata": {},
   "source": [
    "# 第3章 情報理論"
   ]
  },
  {
   "cell_type": "markdown",
   "metadata": {},
   "source": [
    "## 3.1 情報量"
   ]
  },
  {
   "cell_type": "markdown",
   "metadata": {},
   "source": [
    "値 $\\{x_i\\}_{i=1}^{m}$ を取る確率変数 $X$ を考える. $X=x_i$ であるとわかったときに得られる（自己）情報量 $I_i$ を次で定義する.\r\n",
    "$$\r\n",
    "I(X=x_i) = -\\log_2{P(X=x_i)}\r\n",
    "$$\r\n",
    "この定義の妥当性は次のように **議論** できる. "
   ]
  },
  {
   "cell_type": "markdown",
   "metadata": {},
   "source": [
    "$X$ と独立な確率変数 $Y$ を考える. $Y$が取りうる値を $\\{y_i\\}_{i=1}^{n}$ としよう. $X$ と $Y$ は独立であるため $X=x_i$ かつ $Y=y_j$ であるとわかったときに得られる情報量 $I(X=x_i, Y=y_i)$ は加法的, すなわち\r\n",
    "$$\r\n",
    "I(X=x_i, Y=y_i) = I(X=x_i) + I(Y=y_i)\r\n",
    "$$\r\n",
    "となるべきである. また, 情報量は確率のみの関数であるとしよう. \r\n",
    "$$\r\n",
    "I(X) = I(P(X))\r\n",
    "$$\r\n",
    "このとき上述の加法性の式は（ $x_i$ や $y_j$ を省略して）\r\n",
    "$$\r\n",
    "I(P(X, Y)) = I(P(X)) + I(P(Y))\r\n",
    "$$\r\n",
    "と書ける."
   ]
  },
  {
   "cell_type": "markdown",
   "metadata": {},
   "source": [
    "一方で独立性から確率分布について\r\n",
    "$$\r\n",
    "P(X, Y) = P(X)P(Y)\r\n",
    "$$\r\n",
    "したがって\r\n",
    "$$\r\n",
    "I(P(X)P(Y)) = I(P(X)) + I(P(Y))\r\n",
    "$$\r\n",
    "これが任意の確率分布で成り立つためには, 連続変数 $x$, $y$ に対して\r\n",
    "$$\r\n",
    "I(xy) = I(x) + I(y)\r\n",
    "$$\r\n",
    "という関数等式が成立しなければいけない."
   ]
  },
  {
   "cell_type": "markdown",
   "metadata": {},
   "source": [
    "この式から, まず $x=1$, $y=1$ とおけば $I(1) = 0$ が得られる. 次に両辺を $y$ で微分して $y=1$ とおくと,\r\n",
    "$$\r\n",
    "xI^{\\prime}(x) = I^{\\prime}(1)\r\n",
    "$$\r\n",
    "この微分方程式を解くと $a$, $b$ を定数として\r\n",
    "$$\r\n",
    "I(x) = a\\log_2{x}+b\r\n",
    "$$\r\n",
    "$I(1)=0$ であったから $b=0$で\r\n",
    "$$\r\n",
    "I(x) = a\\log_2{x}\r\n",
    "$$\r\n",
    "となる.\r\n",
    "よって\r\n",
    "$$\r\n",
    "I(X) = a\\log_2{P(X)}\r\n",
    "$$"
   ]
  },
  {
   "cell_type": "markdown",
   "metadata": {},
   "source": [
    "最も基本的なケースとして$m=2$ で $P(X=x_1)=P(X=x_2)=\\frac{1}{2}$ の場合を考える.\r\n",
    "このときの情報量を $1$ 単位と定義すると（単位bit）,\r\n",
    "$$\r\n",
    "I(X=x_i) = a\\log_2{\\frac{1}{2}}\r\n",
    "$$\r\n",
    "が $1$ に等しくなければならない. よって比例定数 $a$ は $-1$ であり, 冒頭の定義式が得られる."
   ]
  },
  {
   "cell_type": "markdown",
   "metadata": {},
   "source": [
    "## 3.2 エントロピー"
   ]
  },
  {
   "cell_type": "markdown",
   "metadata": {},
   "source": [
    "平均情報量 $H(X)$ を（平均）エントロピーと呼ぶ. 以降, 対数の底は常に $2$ であるとし明示しない. $p_i = P(X=x_i)$ として\r\n",
    "$$\r\n",
    "H(X) = -\\sum_{i=1}^{n}p_i\\log{p_i}\r\n",
    "$$\r\n",
    "である. 確率 $0 \\le p_i \\le 1$ に対して $-\\log{p_i} \\ge 0$ であるから\r\n",
    "$$\r\n",
    "H(X) \\ge 0\r\n",
    "$$\r\n",
    "である."
   ]
  },
  {
   "cell_type": "markdown",
   "metadata": {},
   "source": [
    "結合分布に対しては結合エントロピーを\r\n",
    "$$\r\n",
    "H(X, Y) = -\\sum_{x,y}{P(X=x, Y=y)}\\log{P(X=x, Y=y)}\r\n",
    "$$\r\n",
    "で定義する.\r\n",
    "また, 条件付き分布に対して条件付エントロピーを\r\n",
    "$$\r\n",
    "H(X|Y) = -\\sum_{y}{ P(Y=y) \\sum_{x}{P(X=x | Y=y)\\log{P(X=x | Y=y)}} }\r\n",
    "$$\r\n",
    "で定義する.\r\n",
    "このとき\r\n",
    "$$\r\n",
    "P(X=x | Y=y) = \\frac{P(X=x, Y=y)}{P(Y=y)}\r\n",
    "$$\r\n",
    "であるから\r\n",
    "$$\r\n",
    "H(X|Y) = -\\sum_{x,y}{P(X=x, Y=y)\\log{P(X=x | Y=y)} }\r\n",
    "$$\r\n",
    "とも書ける."
   ]
  },
  {
   "cell_type": "markdown",
   "metadata": {},
   "source": [
    "また,\r\n",
    "$$\r\n",
    "\\begin{aligned}\r\n",
    "H(X|Y) &= -\\sum_{x,y}{P(X=x, Y=y)\\log{\\frac{P(X=x, Y=y)}{P(Y=y)}} } \\\\\r\n",
    "&= -\\sum_{x,y}{P(X=x, Y=y)(\\log{P(X=x, Y=y)} - \\log{P(Y=y)}) } \\\\\r\n",
    "&= H(X, Y) - H(Y)\r\n",
    "\\end{aligned}\r\n",
    "$$\r\n",
    "であるが, 平均エントロピーと同様に\r\n",
    "$$\r\n",
    "H(X, Y) \\ge 0\r\n",
    "$$\r\n",
    "$$\r\n",
    "H(X|Y) \\ge 0\r\n",
    "$$\r\n",
    "なので\r\n",
    "$$\r\n",
    "H(X, Y) \\ge H(Y)\r\n",
    "$$\r\n",
    "が得られる."
   ]
  },
  {
   "cell_type": "markdown",
   "metadata": {},
   "source": [
    "## 3.3 相互情報量"
   ]
  },
  {
   "cell_type": "markdown",
   "metadata": {},
   "source": [
    "確率分布 $P(X)$ と $P(Y)$ の相互情報量を\r\n",
    "$$\r\n",
    "I(P(X);P(Y)) = \\sum_{x, y}{ P(X=x, Y=y)\\log{\\frac{P(X=x, Y=y)}{P(X=x) P(Y=y)}} }\r\n",
    "$$\r\n",
    "で定義する.\r\n",
    "$X$ と $Y$ が独立ならば $I(P(X);P(Y)) = 0$ である.\r\n",
    "\r\n",
    "$$\r\n",
    "\\begin{aligned}\r\n",
    "I(P(X);P(Y)) &= \\sum_{x, y}{ P(X=x, Y=y)\\log{P(X=x,Y=y)} } \\\\\r\n",
    " &\\quad - \\sum_{x, y}{ P(X=x, Y=y)\\log{P(X=x)} } \\\\\r\n",
    " &\\quad - \\sum_{x, y}{ P(X=x, Y=y)\\log{P(Y=y)} } \\\\\r\n",
    "&= -H(X,Y)\r\n",
    " - \\sum_{x}{ P(X=x)\\log{P(X=x)} }\r\n",
    " - \\sum_{y}{ P(Y=y)\\log{P(Y=y)} } \\\\\r\n",
    "&= H(X) + H(Y) - H(X,Y)\r\n",
    "\\end{aligned}\r\n",
    "$$"
   ]
  },
  {
   "cell_type": "markdown",
   "metadata": {},
   "source": [
    "## 3.3 Kullback-Leibler divergence"
   ]
  },
  {
   "cell_type": "markdown",
   "metadata": {},
   "source": [
    "２つの確率分布 $P(X)$ と $Q(X)$ の違いを表す量として Kullback-Leibler divergence（KL divergence）\r\n",
    "$$\r\n",
    "D_{KL}(P||Q) = \\sum_x{P(x)\\log{\\frac{P(x)}{Q(x)}}}\r\n",
    "$$\r\n",
    "を導入する.\r\n",
    "\r\n",
    "KL divergence は引数について対称ではない.\r\n",
    "$$\r\n",
    "D_{KL}(P||Q) \\ne D_{KL}(Q||P)\r\n",
    "$$\r\n",
    "したがって KL-divergence は距離ではない.\r\n",
    "一方で２つの分布が一致するとき $D_{KL}(P||Q) = 0$ であり, 以下の議論からその逆も成り立つ."
   ]
  },
  {
   "cell_type": "markdown",
   "metadata": {},
   "source": [
    "以下 $D_{KL}(P||Q) \\ge 0$ を示す.\r\n",
    "$\\log_2{x} = \\frac{\\ln{x}}{\\ln{2}}$ であるから対数を自然対数にして示せば十分である.\r\n",
    "自然対数では不等式\r\n",
    "$$\r\n",
    "\\ln{x} \\le x - 1\r\n",
    "$$\r\n",
    "が成立し, 等号は $x=1$ に限る. よって\r\n",
    "$$\r\n",
    "\\begin{aligned}\r\n",
    "\\sum_x{P(x)\\ln{\\frac{P(x)}{Q(x)}}} &= -\\sum_x{P(x)\\ln{\\frac{Q(x)}{P(x)}}} \\\\\r\n",
    "&\\ge -\\sum_x{P(x) \\big( \\frac{Q(x)}{P(x)} - 1 \\big) } \\\\\r\n",
    "&= -\\sum_x{Q(x)} + \\sum_x{P(x)} \\\\\r\n",
    "&= -1 +1 = 0\r\n",
    "\\end{aligned}\r\n",
    "$$\r\n",
    "であり, 等号はすべての$x$ に対して $\\frac{Q(x)}{P(x)}=1$ 成り立つときに限る.\r\n"
   ]
  }
 ],
 "metadata": {
  "interpreter": {
   "hash": "26ba46d4ddfbbb7434ae4df4c2c95f7e59dc161bdd1bad6b7cd3d053f0e418ca"
  },
  "kernelspec": {
   "display_name": "Python 3.7.7 64-bit ('atma10': venv)",
   "name": "python3"
  },
  "language_info": {
   "name": "python",
   "version": ""
  },
  "orig_nbformat": 4
 },
 "nbformat": 4,
 "nbformat_minor": 2
}