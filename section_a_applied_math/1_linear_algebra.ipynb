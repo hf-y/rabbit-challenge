{
 "cells": [
  {
   "cell_type": "markdown",
   "metadata": {},
   "source": [
    "# 第1章 線形代数"
   ]
  },
  {
   "cell_type": "markdown",
   "metadata": {},
   "source": [
    "## 1.1 行列と連立一次方程式"
   ]
  },
  {
   "cell_type": "markdown",
   "metadata": {},
   "source": [
    "連立一次方程式は行列とベクトルを用いて表すことができる.\r\n",
    "\r\n",
    "例えば\r\n",
    "$$\r\n",
    "\\left\\{\r\n",
    "    \\begin{array}{r}\r\n",
    "    x_1+2x_2=3 \\\\\r\n",
    "    2x_1+5x_2=5\r\n",
    "    \\end{array}\r\n",
    "\\right.\r\n",
    "$$\r\n",
    "は\r\n",
    "$$\r\n",
    "x =\r\n",
    "\\begin{pmatrix}\r\n",
    "    x_1 \\\\\r\n",
    "    x_2 \\\\\r\n",
    "\\end{pmatrix}\r\n",
    ",\\quad\r\n",
    "A =\r\n",
    "\\begin{pmatrix}\r\n",
    "1 & 2 \\\\\r\n",
    "2 & 5 \\\\\r\n",
    "\\end{pmatrix}\r\n",
    ",\\quad\r\n",
    "b =\r\n",
    "\\begin{pmatrix}\r\n",
    "3 \\\\\r\n",
    "5 \\\\\r\n",
    "\\end{pmatrix}\r\n",
    "$$\r\n",
    "とおけば\r\n",
    "$$\r\n",
    "Ax=b\r\n",
    "$$\r\n",
    "と書ける."
   ]
  },
  {
   "cell_type": "markdown",
   "metadata": {},
   "source": [
    "## 1.2 固有値と固有ベクトル"
   ]
  },
  {
   "cell_type": "markdown",
   "metadata": {},
   "source": [
    "正方行列 $A$ に対して以下の条件（固有方程式）を満たす $\\lambda$, $v$ を $A$ の固有値, 固有ベクトルと呼ぶ.\r\n",
    "$$\r\n",
    "Av=\\lambda v,\\quad v \\neq 0\r\n",
    "$$\r\n",
    "特定の条件を満たす行列（正規行列）は対角行列を正則行列とその逆行列ではさんだ行列積の形に分解することができ, 対角行列の成分に固有値が並ぶため, これを固有値分解と呼ぶ.\r\n",
    "\r\n",
    "なお, $Av=\\lambda v$ ならば両辺に $a(\\neq 0)$ をかけて $A(av)=\\lambda (av)$ であるから, 固有ベクトルには定数倍の自由度がある.\r\n",
    "\r\n",
    "例えば $a, b \\in \\bold{R}$ に対して, 実対称行列\r\n",
    "$$\r\n",
    "A=\r\n",
    "\\begin{pmatrix}\r\n",
    "    a & b \\\\\r\n",
    "    b & a \\\\\r\n",
    "\\end{pmatrix}\r\n",
    "$$\r\n",
    "の固有値分解を考える.\r\n",
    "\r\n",
    "$$\r\n",
    "\\begin{pmatrix}\r\n",
    "    a-\\lambda & b \\\\\r\n",
    "    b & a-\\lambda \\\\\r\n",
    "\\end{pmatrix}\r\n",
    "v = 0\r\n",
    "$$\r\n",
    "が非自明な解を持つの条件から\r\n",
    "$$\r\n",
    "\\begin{vmatrix}\r\n",
    "a-\\lambda & b \\\\\r\n",
    "b & a-\\lambda \\\\\r\n",
    "\\end{vmatrix}\r\n",
    "=0\r\n",
    "$$\r\n",
    "したがって\r\n",
    "$$\r\n",
    "\\begin{aligned}\r\n",
    "(a-\\lambda)^2-b^2 &= 0 \\\\\r\n",
    "\\lambda &= a \\pm b\r\n",
    "\\end{aligned}\r\n",
    "$$\r\n",
    "よって固有値は\r\n",
    "$$\r\n",
    "\\lambda_1 = a+b ,\\quad \\lambda_2=a-b\r\n",
    "$$\r\n",
    "である.\r\n",
    "\r\n",
    "また, 対応する固有ベクトル $v = v_1, v_2$ は適当に定数倍することで規格化（$\\|v\\|^2 \\equiv v^T v=1$）して\r\n",
    "$$\r\n",
    "v_1 =\r\n",
    "\\frac{1}{\\sqrt{2}}\r\n",
    "\\begin{pmatrix}\r\n",
    "    1 \\\\\r\n",
    "    1 \\\\\r\n",
    "\\end{pmatrix}\r\n",
    ",\\quad\r\n",
    "v_2 = \r\n",
    "\\frac{1}{\\sqrt{2}}\r\n",
    "\\begin{pmatrix}\r\n",
    "    1 \\\\\r\n",
    "    -1 \\\\\r\n",
    "\\end{pmatrix}\r\n",
    "$$\r\n",
    "と選ぶことができる.\r\n",
    "\r\n",
    "ここで固有ベクトルは互いに直行している. つまり内積 $v \\cdot v$ がゼロ\r\n",
    "$$\r\n",
    "v \\cdot v \\equiv v_1^T v_2 =\r\n",
    "\\frac{1}{\\sqrt{2}}\r\n",
    "\\begin{pmatrix}\r\n",
    "    1 & 1\r\n",
    "\\end{pmatrix}\r\n",
    "\\frac{1}{\\sqrt{2}}\r\n",
    "\\begin{pmatrix}\r\n",
    "    1 \\\\\r\n",
    "    -1\r\n",
    "\\end{pmatrix}\r\n",
    "= 0\r\n",
    "$$\r\n",
    "である."
   ]
  },
  {
   "cell_type": "markdown",
   "metadata": {},
   "source": [
    "\r\n",
    "さて, 規格化した固有ベクトルを並べた行列\r\n",
    "$$\r\n",
    "P=\\frac{1}{\\sqrt{2}}\r\n",
    "\\begin{pmatrix}\r\n",
    "    1 & 1\\\\\r\n",
    "    1 & -1\\\\\r\n",
    "\\end{pmatrix}\r\n",
    "$$\r\n",
    "を考える. これは直行行列（$P^T = P^{-1}$）であることに注意する.\r\n",
    "\r\n",
    "さらに, 対角成分に固有値を並べた行列を\r\n",
    "$$\r\n",
    "\\Lambda=\r\n",
    "\\begin{pmatrix}\r\n",
    "    a+b & 0\\\\\r\n",
    "    0 & a-b\\\\\r\n",
    "\\end{pmatrix}\r\n",
    "$$\r\n",
    "とおくと, 行列 $A$ は\r\n",
    "$$\r\n",
    "A = P \\Lambda P^{-1} \r\n",
    "$$\r\n",
    "と固有値分解できる. \r\n"
   ]
  },
  {
   "cell_type": "markdown",
   "metadata": {},
   "source": [
    "ここで逆行列は掃き出し法または余因子行列を用いて求めることができて\r\n",
    "$$\r\n",
    "P^{-1}=\\frac{1}{\\sqrt{2}}\r\n",
    "\\begin{pmatrix}\r\n",
    "    1 & 1\\\\\r\n",
    "    1 & -1\\\\\r\n",
    "\\end{pmatrix}\r\n",
    "$$\r\n",
    "である."
   ]
  },
  {
   "cell_type": "markdown",
   "metadata": {},
   "source": [
    "## 1.3 特異値分解"
   ]
  },
  {
   "cell_type": "markdown",
   "metadata": {},
   "source": [
    "正方行列でない場合も対角行列を２つの正則行列ではさんだ形に分解できる."
   ]
  },
  {
   "cell_type": "markdown",
   "metadata": {},
   "source": [
    "$m \\times n$ 実行列 $M$ に対して, $M M^T$ は $m$ 次対称行列なので以下のように固有値分解できる.\r\n",
    "$$\r\n",
    "M M^T = U \\Lambda_U U^{-1}\r\n",
    "$$\r\n",
    "ここで $U$ は $m$ 次直行行列, $\\Lambda_U$ は固有値を並べた $m$ 次対角行列である. ただし $\\Lambda_U$ の固有値は上から大きい順に並べたものとする.\r\n",
    "\r\n",
    "さて, 任意の固有値 $\\lambda$ に対応する固有ベクトル $u$ に対して\r\n",
    "$$\r\n",
    "u^T M M^T u = (M^T u)^T M^T u = \\|M^T u\\|^2 \\ge 0\r\n",
    "$$\r\n",
    "であるから, $ M M^T u = \\lambda u $ より\r\n",
    "$$\r\n",
    "\\lambda \\| u\\|^2 = \\lambda (u^T v)  = u^T (\\lambda u) = u^T M M^T u \\ge 0\r\n",
    "$$\r\n",
    "したがってすべての固有値は非負である.\r\n",
    "\r\n",
    "同様に $n$ 次対称行列 $M^T M$ も $n$ 次直行行列 $V$ と対角成分にのみゼロでない値を持ちうる $n$ 次対角行列 $\\Lambda_V$ で\r\n",
    "$$\r\n",
    "M^T M = V \\Lambda_V V^{-1} \r\n",
    "$$\r\n",
    "と書くことができる.\r\n",
    "\r\n"
   ]
  },
  {
   "cell_type": "markdown",
   "metadata": {},
   "source": [
    "次に$M^T M$ の任意の固有値 $\\lambda_V$ と対応する固有ベクトル $v$ に対して\r\n",
    "$$\r\n",
    "u = M v\r\n",
    "$$\r\n",
    "とおくと\r\n",
    "$$\r\n",
    "M M^T u = (M M^T) M v = M (M^T M) v = M (\\lambda_V v) = \\lambda_V u\r\n",
    "$$\r\n",
    "したがって $\\lambda_V$ は $M M^T$ の固有値でもある.\r\n",
    "\r\n",
    "逆に$M M^T$ の任意の固有値 $\\lambda_U$ と対応する固有ベクトル $u$ に対して\r\n",
    "$$\r\n",
    "v = M^T u\r\n",
    "$$\r\n",
    "とおくと, 同様にして $\\lambda_U$ は $M^T M$ の固有値であることがわかる."
   ]
  },
  {
   "cell_type": "markdown",
   "metadata": {},
   "source": [
    "\r\n",
    "以上の観察から, 固有値の非負の平方根を対角成分に並べた $m \\times n$ 行列を $S$ とすると\r\n",
    "$$\r\n",
    "M = U S V^T\r\n",
    "$$\r\n",
    "と分解できる. これを特異値分解と呼ぶ.\r\n",
    "\r\n",
    "実際\r\n",
    "$$\r\n",
    "S S^T = \\Lambda_U ,\\quad S^T S = \\Lambda_V\r\n",
    "$$\r\n",
    "とおくと\r\n",
    "$$\r\n",
    "M M^T = U S V^T V S^T U^T = U S S^T U^T = U \\Lambda_U U^T\r\n",
    "$$\r\n",
    "$$\r\n",
    "M^T M = V S^T U^T U S V^T = V S^T S V^T = V \\Lambda_V V^T\r\n",
    "$$\r\n",
    "である."
   ]
  },
  {
   "cell_type": "markdown",
   "metadata": {},
   "source": []
  }
 ],
 "metadata": {
  "interpreter": {
   "hash": "4257a72093a6818c0e805e78a0416bc88840ef83fc57f07bf8ef31bee47dc27f"
  },
  "kernelspec": {
   "display_name": "Python 3.7.7 64-bit ('all')",
   "name": "python3"
  },
  "language_info": {
   "name": "python",
   "version": ""
  },
  "orig_nbformat": 4
 },
 "nbformat": 4,
 "nbformat_minor": 2
}