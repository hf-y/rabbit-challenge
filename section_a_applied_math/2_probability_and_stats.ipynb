{
 "cells": [
  {
   "cell_type": "markdown",
   "metadata": {},
   "source": [
    "# 第2章 確率・統計"
   ]
  },
  {
   "cell_type": "markdown",
   "metadata": {},
   "source": [
    "## 2.1 条件付確率とベイズの定理"
   ]
  },
  {
   "cell_type": "markdown",
   "metadata": {},
   "source": [
    "確率変数 $X$ が 特定の値 $x$ をとる確率を $\\bold{P}(X=x)$ と書く. さらに値 $x$ を明示しないときは $\\bold{P}(X)$ のように書くこととする. 確率の定義より\r\n",
    "$$\r\n",
    "\\bold{P}(X) \\ge 0 \\\\\r\n",
    "\\sum_X{\\bold{P}(X)} = 1\r\n",
    "$$\r\n",
    "である. ただし2番目の式の $\\sum_X{\\bold{P}(X)}$ は $\\sum_x{\\bold{P}(X=x)}$ を意味するものとする.\r\n",
    "\r\n",
    "条件付確率 $\\bold{P}(X|Y)$ は 結合分布 $\\bold{P}(X, Y)$ を用いて\r\n",
    "$$\r\n",
    "\\bold{P}(X|Y) = \\frac{\\bold{P}(X,Y)}{\\bold{P}(Y)} = \\frac{\\bold{P}(X,Y)}{\\sum_X{\\bold{P}(X, Y)}}\r\n",
    "$$\r\n",
    "と計算できる. \r\n",
    "ここで連続分布の場合は, 適宜, 和を積分に読み替えるものとする.\r\n",
    "\r\n",
    "これをベイズの定理と呼ぶ.\r\n",
    "\r\n",
    "さらに上式で $X$ と $Y$ を入れ替えたものを考えれば,\r\n",
    "$$\r\n",
    "\\begin{aligned}\r\n",
    "\\bold{P}(Y|X) &= \\frac{\\bold{P}(X,Y)}{\\sum_Y{\\bold{P}(X, Y)}} \\\\\r\n",
    "&= \\frac{\\bold{P}(X|Y) \\bold{P}(Y)}{\\sum_Y{\\bold{P}(X|Y) \\bold{P}(Y)}}\r\n",
    "\\end{aligned}\r\n",
    "$$\r\n",
    "である. \r\n",
    "\r\n",
    "なお, 比例の記号を用いれば $\\bold{P}(Y|X) \\propto \\bold{P}(X, Y) = \\bold{P}(X|Y)\\bold{P}(Y)$ であることにも注意する. 分母は確率の総和が $1$ であることより復元できる.\r\n"
   ]
  },
  {
   "cell_type": "markdown",
   "metadata": {},
   "source": [
    "## 2.2 モーメント"
   ]
  },
  {
   "cell_type": "markdown",
   "metadata": {},
   "source": [
    "確率分布 $\\bold{P}(X)$ に対して, 確率変数 $f(X)$ の平均（あるいは期待値）を\r\n",
    "$$\r\n",
    "\\mathbb{E}[f(X)] = \\sum_x{f(x) \\bold{P}(X=x)}\r\n",
    "$$\r\n",
    "と定義する.\r\n",
    "\r\n",
    "また $f(X)$ の分散を\r\n",
    "$$\r\n",
    "\\begin{aligned}\r\n",
    "\\bold{V}[f(X)] &= \\mathbb{E}[(f(X) - \\mathbb{E}[f(X)])^2]\r\n",
    "\\end{aligned}\r\n",
    "$$\r\n",
    "と定義する.\r\n",
    "\r\n",
    "定数 $a, \\, b$ に対して $f(X)$ の線形変換 $af(X)+b$ を考えると,\r\n",
    "$$\r\n",
    "\\begin{aligned}\r\n",
    "\\mathbb{E}[af(X)+b] &= \\sum_x{( af(x)+b ) \\bold{P}(X=x)} \\\\\r\n",
    "&= a\\sum_x{f(x) \\bold{P}(X=x)} + b \\sum_x{\\bold{P}(X=x)} \\\\\r\n",
    "&= a\\mathbb{E}[f(X)] + b\r\n",
    "\\end{aligned}\r\n",
    "$$\r\n",
    "このことから\r\n",
    "$$\r\n",
    "\\begin{aligned}\r\n",
    "\\bold{V}[f(X)] &= \\mathbb{E}[(f(X) - \\mathbb{E}[f(X)])^2] \\\\\r\n",
    "&= \\mathbb{E}[f(X)^2 - 2\\mathbb{E}[f(X)]f(X) + \\mathbb{E}[f(X)]^2] \\\\\r\n",
    "&= \\mathbb{E}[f(X)^2] - 2\\mathbb{E}[f(X)]^2 + \\mathbb{E}[f(X)]^2] \\\\\r\n",
    "&= \\mathbb{E}[f(X)^2] - \\mathbb{E}[f(X)]^2\r\n",
    "\\end{aligned}\r\n",
    "$$\r\n",
    "また,\r\n",
    "$$\r\n",
    "\\begin{aligned}\r\n",
    "\\bold{V}[af(X)+b] &= \\mathbb{E}[ \\, ( \\, (af(X)+b) - \\mathbb{E}[af(X)+b] \\,)^2 \\,] \\\\\r\n",
    "&= \\mathbb{E}[ \\, ( \\, af(X)+b - a\\mathbb{E}[f(X)] - b \\,)^2 \\,] \\\\\r\n",
    "&= \\mathbb{E}[ \\, a^2 ( \\, f(X) - \\mathbb{E}[f(X)] \\,)^2 \\,] \\\\\r\n",
    "&= a^2 \\bold{V}[f(X)]\r\n",
    "\\end{aligned}\r\n",
    "$$"
   ]
  },
  {
   "cell_type": "markdown",
   "metadata": {},
   "source": [
    "次の量\r\n",
    "$$\r\n",
    "m_n = \\mathbb{E}[X^n] = \\sum_x{x^n \\bold{P}(X=x)}\r\n",
    "$$\r\n",
    "は $n$ 次のモーメントと呼ばれる.\r\n",
    "\r\n",
    "特に $1$ 次のモーメント $m_1$ とは $X$ の平均 $\\mathbb{E}[X]$ のことであり, 2次までのモーメントを用いて $X$ の分散 $\\mathbb{V}[X]$ は $m_2 - m_1^2$ と表現できる.\r\n",
    "\r\n",
    "また, 定数 $\\alpha$ に関する（あるいは $\\alpha$ を中心とする） $n$ 次モーメントを\r\n",
    "$$\r\n",
    "\\mu_{n}^{(\\alpha)}(X) = \\mathbb{E}[(X-\\alpha)^n] = \\sum_x{(x - \\alpha)^n \\bold{P}(X=x)}\r\n",
    "$$\r\n",
    "と定義すると, $m_n$ とは $0$ に関するモーメント $\\mu_{n}^{(0)}$ であり, 分散は平均に関する $2$ 次のモーメントである.\r\n",
    "\r\n",
    "最後に, 変数 $\\theta$ の関数\r\n",
    "$$\r\n",
    "m(\\theta) = \\mathbb{E}[e^{\\theta X}] = \\sum_x{e^{\\theta x} \\bold{P}(X=x)}\r\n",
    "$$\r\n",
    "はモーメント母関数と呼ばれる. モーメント母関数が求まれば $n$ 次モーメントを\r\n",
    "$$\r\n",
    "m_n = \\frac{d^n m}{d\\theta^n}(0)\r\n",
    "$$\r\n",
    "のように $\\theta = 0$ における微分値から計算することができる."
   ]
  },
  {
   "cell_type": "markdown",
   "metadata": {},
   "source": [
    "## 2.3 様々な確率分布"
   ]
  },
  {
   "cell_type": "markdown",
   "metadata": {},
   "source": [
    "確率分布の例を列挙する.\r\n",
    "各分布の項目は上から順に, 当該分布に従う確率変数 $X$ が取りうる値, パラメータ, 分布関数の式, 期待値, 分散である.\r\n",
    "* ベルヌーイ分布\r\n",
    "  * $\\{0, 1\\}$\r\n",
    "  * $p$\r\n",
    "  * $\\bold{P}(X=k) = p^k (1-p)^k$\r\n",
    "  * $p$\r\n",
    "  * $p(1-p)$\r\n",
    "* 二項分布\r\n",
    "  * $\\mathbb{N}_{\\ge 0}$\r\n",
    "  * $p$\r\n",
    "  * $\\bold{P}(X=k) = {}_n C_k p^k (1-p)^{n-k}$\r\n",
    "  * $np$\r\n",
    "  * $np(1-p)$\r\n",
    "* 1次元ガウス分布\r\n",
    "  * $\\mathbb{R}$\r\n",
    "  * $\\mu, \\, \\sigma$\r\n",
    "  * $\\bold{P}(X=x) = \\frac{1}{\\sqrt{2\\pi \\sigma^2}} e^{-\\frac{(x-\\mu)^2}{2\\sigma^2} }$\r\n",
    "  * $\\mu$\r\n",
    "  * $\\sigma^2$\r\n"
   ]
  },
  {
   "cell_type": "markdown",
   "metadata": {},
   "source": [
    "## 2.3 推定"
   ]
  },
  {
   "cell_type": "markdown",
   "metadata": {},
   "source": [
    "確率変数 $X_i$ と $X_j$ が独立であるとは $\\bold{P}(X, Y) = \\bold{P}(X)\\bold{P}(Y)$ となることである. \r\n",
    "独立な $n$ 個の確率変数 $\\{X_i\\}_{i=1}^{n}$ を考えよう. \r\n",
    "さらにこれら $n$個の確率変数がパラメータ $\\theta$ を持つ同一の分布 $\\bold{P}(X|\\theta)$ に従うものとする.\r\n",
    "このとき観測により $X_i$ の実現値 $x_i$ が得られたとして, その値からパラメータ $\\theta$ を推測したい. このような問題設定を統計的推定と呼ぶ."
   ]
  },
  {
   "cell_type": "markdown",
   "metadata": {},
   "source": [
    "また, $\\theta$ の値を関数 $f$ を用いて\r\n",
    "$$\r\n",
    "\\hat{\\theta} = f(X_1, \\cdots, X_n)\r\n",
    "$$\r\n",
    "と推定するとき, $\\hat{\\theta}$ を $\\theta$ の推定量と呼ぶ.\r\n",
    "\r\n",
    "例えばパラメータに平均と分散を含む分布の場合は, 平均の推定量として標本平均\r\n",
    "$$\r\n",
    "\\bar{X} = \\frac{1}{n}\\sum_{i=1}^{n}{X_i}\r\n",
    "$$\r\n",
    "を, 分散の推定量として標本分散\r\n",
    "$$\r\n",
    "s^2 = \\frac{1}{n}\\sum_{i=1}^{n}{(X_i - \\bar{X})^2}\r\n",
    "$$\r\n",
    "を考えることができる."
   ]
  },
  {
   "cell_type": "markdown",
   "metadata": {},
   "source": [
    "さて, 標本平均, 標本分散の性質を調べよう. \r\n",
    "\r\n",
    "まず, 標本平均の期待値をとると, 期待値の線形性より\r\n",
    "$$\r\n",
    "\\begin{aligned}\r\n",
    "\\mathbb{E}[\\bar{X}] &= \\frac{1}{n}\\sum_{i=1}^{n}{\\mathbb{E}[X_i]} \\\\\r\n",
    "&= \\frac{1}{n}\\sum_{i=1}^{n}{\\mu} \\\\\r\n",
    "&= \\mu\r\n",
    "\\end{aligned}\r\n",
    "$$\r\n",
    "であり, 推定したいパラメータ（今の場合 $\\mu$）に一致する. \r\n",
    "一般にこの性質\r\n",
    "$$\r\n",
    "\\mathbb{E}[\\hat{\\theta}] = \\theta\r\n",
    "$$\r\n",
    "を満たす推定量を不偏推定量と呼ぶ."
   ]
  },
  {
   "cell_type": "markdown",
   "metadata": {},
   "source": [
    "\r\n",
    "標本平均の平均がわかったところで, 分散も計算してみよう.\r\n",
    "$$\r\n",
    "\\begin{aligned}\r\n",
    "\\bold{V}[\\bar{X}] &= \\mathbb{E}[(\\bar{X} - \\mu)^2] \\\\\r\n",
    "&= \\mathbb{E}[\\big(\\frac{\\sum_{i=1}^{n}{X_i}}{n} - \\mu \\big)^2] \\\\\r\n",
    "&= \\mathbb{E}[\\big(\\frac{\\sum_{i=1}^{n}{(X_i -\\mu)}}{n} \\big)^2] \\\\\r\n",
    "&= \\frac{\\mathbb{E}\\big[\\displaystyle \\sum_{i=1}^{n}{(X_i -\\mu)^2} + \\displaystyle 2\\sum_{i,j=1, \\,i \\ne j}^{n}{(X_i -\\mu)(X_j -\\mu)} \\big]}{n^2} \\\\\r\n",
    "&= \\frac{ \\sum_{i=1}^{n}{\\mathbb{E}[(X_i -\\mu)^2]} }{ n^2 } + \\frac{2}{n^2} \\sum_{i,j=1, \\,i \\ne j}^{n}{\\mathbb{E}[(X_i -\\mu)(X_j -\\mu)]} \\\\\r\n",
    "&= \\frac{ \\sigma^2 }{ n }\r\n",
    "\\end{aligned} \r\n",
    "$$\r\n",
    "\r\n",
    "最後の式変形では $X_i-\\mu$ と $X_j-\\mu$ が独立であること\r\n",
    "$$\r\n",
    "\\mathbb{E}[(X_i -\\mu)(X_j -\\mu) = 0\r\n",
    "$$\r\n",
    "を使った."
   ]
  },
  {
   "cell_type": "markdown",
   "metadata": {},
   "source": [
    "次に標本分散の期待値を計算しよう.\r\n",
    "$$\r\n",
    "\\mathbb{E}[s^2] = \\frac{1}{n}\\sum_{i=1}^{n}{\\mathbb{E}[(X_i - \\bar{X})^2]}\r\n",
    "$$\r\n",
    "ここで\r\n",
    "$$\r\n",
    "\\begin{aligned}\r\n",
    "\\mathbb{E}[\\sum_{i=1}^{n}{(X_i - \\bar{X})^2}]\r\n",
    "&= \\mathbb{E}[\\sum_{i=1}^{n}{(X_i - \\mu + \\mu - \\bar{X})^2}] \\\\\r\n",
    "&= \\mathbb{E}[\\sum_{i=1}^{n}{(X_i - \\mu)^2 + 2\\sum_{i=1}^{n}{(X_i - \\mu)(\\mu - \\bar{X})} + \\sum_{i=1}^{n}{(\\mu - \\bar{X})^2}}] \\\\\r\n",
    "&= \\sum_{i=1}^{n}{\\mathbb{E}[(X_i - \\mu)^2]} + 2\\mathbb{E}[ (\\sum_{i=1}^{n}{X_i} - n\\mu)(\\mu - \\bar{X})] +  \\sum_{i=1}^{n}\\mathbb{E}[ (\\bar{X}-\\mu)^2 ] \\\\\r\n",
    "&= \\sum_{i=1}^{n}{\\sigma^2} + 2n\\mathbb{E}[ (\\bar{X} - \\mu)(\\mu - \\bar{X})] + n\\mathbb{E}[ (\\bar{X}-\\mu)^2 ] \\\\\r\n",
    "&= n\\sigma^2 - n\\mathbb{E}[ (\\bar{X} - \\mu)^2] \\\\\r\n",
    "&= n\\sigma^2 - n\\bold{V}[\\bar{X}]\r\n",
    "\\end{aligned}\r\n",
    "$$\r\n",
    "\r\n",
    "上で示したように $\\bold{V}[\\bar{X}] = \\frac{\\sigma^2}{n}$ であるから結局\r\n",
    "$$\r\n",
    "\\mathbb{E}[\\sum_{i=1}^{n}{(X_i - \\bar{X})^2}] = (n-1)\\sigma^2\r\n",
    "$$\r\n",
    "したがって\r\n",
    "$$\r\n",
    "\\mathbb{E}[s^2] = \\frac{n-1}{n}\\sigma^2\r\n",
    "$$\r\n",
    "このように期待値が $\\sigma^2$ からずれており, $s^2$ は不偏推定量ではない."
   ]
  },
  {
   "cell_type": "markdown",
   "metadata": {},
   "source": [
    "標本分散$s^2$ に対して, 不偏分散 $S^2$ を次で定義する.\r\n",
    "$$\r\n",
    "S^2 = \\frac{1}{n-1}\\sum_{i=1}^{n}{(X_i - \\bar{X})^2}\r\n",
    "$$\r\n",
    "\r\n",
    "不偏分散はその名の通り不偏推定量である. 実際\r\n",
    "$$\r\n",
    "\\begin{aligned}\r\n",
    "\\mathbb{E}[S^2] &= \\mathbb{E}[\\frac{1}{n-1}\\sum_{i=1}^{n}{(X_i - \\bar{X})^2}] \\\\\r\n",
    "&= \\frac{n}{n-1}\\mathbb{E}[\\frac{1}{n}\\sum_{i=1}^{n}{(X_i - \\bar{X})^2}] \\\\\r\n",
    "&= \\frac{n}{n-1}\\mathbb{E}[s^2] \\\\\r\n",
    "&= \\sigma^2\r\n",
    "\\end{aligned}\r\n",
    "$$"
   ]
  }
 ],
 "metadata": {
  "interpreter": {
   "hash": "4257a72093a6818c0e805e78a0416bc88840ef83fc57f07bf8ef31bee47dc27f"
  },
  "kernelspec": {
   "display_name": "Python 3.7.7 64-bit ('all')",
   "name": "python3"
  },
  "language_info": {
   "name": "python",
   "version": ""
  },
  "orig_nbformat": 4
 },
 "nbformat": 4,
 "nbformat_minor": 2
}