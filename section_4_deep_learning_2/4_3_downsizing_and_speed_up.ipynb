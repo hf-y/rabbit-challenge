{
 "cells": [
  {
   "cell_type": "markdown",
   "source": [
    "# Deep Learning Day 4"
   ],
   "metadata": {}
  },
  {
   "cell_type": "markdown",
   "source": [
    "## 3 軽量化と高速化"
   ],
   "metadata": {}
  },
  {
   "cell_type": "markdown",
   "source": [
    "### 3-1 要点"
   ],
   "metadata": {}
  },
  {
   "cell_type": "markdown",
   "source": [
    "mobilenetなど軽量な学習モデルが開発される一方で, モデルを軽量化, 高速化する技術も研究されている. プルーニングではネットワークを枝刈りする手法で, 蒸留は大きなモデルであるティーチャーモデルから小さなモデルであるスチューデントモデルを作成する手法である. 浮動小数の桁数を少なくすることで高速化する技術もある."
   ],
   "metadata": {}
  }
 ],
 "metadata": {
  "orig_nbformat": 4,
  "language_info": {
   "name": "python"
  }
 },
 "nbformat": 4,
 "nbformat_minor": 2
}