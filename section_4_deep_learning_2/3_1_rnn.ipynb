{
 "cells": [
  {
   "cell_type": "markdown",
   "source": [
    "# Deep Learning Day 3"
   ],
   "metadata": {}
  },
  {
   "cell_type": "markdown",
   "source": [
    "## 1 再帰型ニューラルネットワークの概要"
   ],
   "metadata": {}
  },
  {
   "cell_type": "markdown",
   "source": [
    "### 1-1 要点"
   ],
   "metadata": {}
  },
  {
   "cell_type": "markdown",
   "source": [
    "再帰型ニューラルネットワーク（RNN）は時系列や文章などの系列データの処理に用いられる. RNNは基本的には時系列解析で言うところの状態空間モデルだと理解できる（隠れ状態が「記憶」としての役割を果たすため時系列を扱うことができる）. \r\n",
    "\r\n",
    "RNNは様々な再帰型ニューラルネットワークの総称として使われることもあるが, 後のセクションで説明するLSTMなどに対して, 最初に提案されたゲート構造を持たないRNNを特にSimple RNNと呼ぶことがある.\r\n",
    "\r\n",
    "RNNでは入力データのひとつの系列を順序を持つベクトルの列として取り扱う. ベクトルをRNNにひとつ入力すると, ひとつ出力と隠れ状態が得られる. 次のステップではこの隠れ状態と次の入力と合わせてRNNに入力する（初期値は適当に定める）. RNN内部では多層パーセプトロンと同様だが少しだけ複雑な計算が行われている. すべてのベクトルを入力し終わると系列データひとつの入力が完了したことになる. \r\n",
    "\r\n",
    "RNNの内部は以下のようになっており, ３つの重み行列と２つのバイアス項を学習パラメータに持つ.\r\n",
    "1. 入力に重み行列をかける\r\n",
    "2. 前のステップで算出した隠れ状態（または初期値）に重み行列をかける\r\n",
    "3. 1.と2.の和をとりバイアス項を加える\r\n",
    "4. 3.の値に活性化関数を適用する\r\n",
    "5. 4.の値が隠れ状態であり次のステップで使われる\r\n",
    "5. 隠れ状態に重み行列をかけてバイアス項を加える\r\n",
    "6. 5.の値に活性化関数を適用したものが出力である\r\n",
    "\r\n",
    "RNNでもバックプロパゲーションを考えることができる（BPTT（Back Propagation Through Time））."
   ],
   "metadata": {}
  },
  {
   "cell_type": "markdown",
   "source": [
    "### 1-2 実装演習結果"
   ],
   "metadata": {}
  },
  {
   "cell_type": "markdown",
   "source": [
    "[3_1_simple_RNN](exercise/3_1_simple_RNN.html)\r\n",
    "\r\n",
    "[3_1_simple_RNN_after](exercise/3_1_simple_RNN_after.html)\r\n",
    "\r\n",
    "[3_3_predict_sin](exercise/3_3_predict_sin.html)\r\n",
    "\r\n",
    "[predict_word](exercise/predict_word_colab.html)"
   ],
   "metadata": {}
  },
  {
   "cell_type": "markdown",
   "source": [
    "### 1-3 考察など"
   ],
   "metadata": {}
  },
  {
   "cell_type": "markdown",
   "source": [
    "ここ数年においては実用的な場面でRNNやLSTMがそのまま用いられることは少ない. 使うとしても後のセクションで説明するSeq2Seqの形で使われる. 最近では単純なSeq2Seqを見かける機会もなくなり, 特にNLPの分野ではtransformerあるいは学習済みBertを利用することが多い.\r\n"
   ],
   "metadata": {}
  }
 ],
 "metadata": {
  "orig_nbformat": 4,
  "language_info": {
   "name": "python"
  }
 },
 "nbformat": 4,
 "nbformat_minor": 2
}