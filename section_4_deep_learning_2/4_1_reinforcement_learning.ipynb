{
 "cells": [
  {
   "cell_type": "markdown",
   "source": [
    "# Deep Learning Day 4"
   ],
   "metadata": {}
  },
  {
   "cell_type": "markdown",
   "source": [
    "## 1 強化学習"
   ],
   "metadata": {}
  },
  {
   "cell_type": "markdown",
   "source": [
    "### 1-1 要点"
   ],
   "metadata": {}
  },
  {
   "cell_type": "markdown",
   "source": [
    "強化学習では教師あり学習のように問題と答えのペアから学習するのではなく, 与えられた環境の中での行動を通して, 方策を学習させる.\r\n",
    "\r\n",
    "次のセクションで述べるAlphaGoの成功によって大きな注目を集めた. Atariのゲームを自動で解けるようになるなど, ゲームやシミュレータの中で完結するタスクでの成功事例が多い."
   ],
   "metadata": {}
  },
  {
   "cell_type": "markdown",
   "source": [
    "### 1-2 考察など"
   ],
   "metadata": {}
  },
  {
   "cell_type": "markdown",
   "source": [
    "強化学習は期待されている技術ではあるが, 例えばショベルカーに地面に穴を掘る動作を学習させる例などを考えると, 学習が難しいことがわかる. 学習のたびに穴を掘っていたのでは時間がかかるし, 現実には穴を埋めなおすコストもかかる.\r\n",
    "\r\n",
    "そこでシミュレターを作ってそこで学習させることが考えられるが, これも完全に現実を再現するシミュレターを作るのはほぼ不可能であり, どこまで現実を捨像するべきかという問題になる."
   ],
   "metadata": {}
  }
 ],
 "metadata": {
  "orig_nbformat": 4,
  "language_info": {
   "name": "python"
  }
 },
 "nbformat": 4,
 "nbformat_minor": 2
}