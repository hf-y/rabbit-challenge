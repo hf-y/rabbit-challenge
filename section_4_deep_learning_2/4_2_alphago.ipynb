{
 "cells": [
  {
   "cell_type": "markdown",
   "source": [
    "# Deep Learning Day 4"
   ],
   "metadata": {}
  },
  {
   "cell_type": "markdown",
   "source": [
    "## 2 AlphaGo"
   ],
   "metadata": {}
  },
  {
   "cell_type": "markdown",
   "source": [
    "### 2-1 要点"
   ],
   "metadata": {}
  },
  {
   "cell_type": "markdown",
   "source": [
    "AlphaGoはデミス・ハサビスが率いるGoogle DeepMindが開発した囲碁を行う深層強化学習モデルであり, 人間のトップ棋士に勝利した. 過去の棋譜を利用している. 内部では碁盤の状態をCNNで認識している."
   ],
   "metadata": {}
  },
  {
   "cell_type": "markdown",
   "source": [
    "### 2-2 考察など"
   ],
   "metadata": {}
  },
  {
   "cell_type": "markdown",
   "source": [
    "以下のように進化を続けている.\r\n",
    "\r\n",
    "* AlphaGo\r\n",
    "  * AlphaGo Fan\r\n",
    "  * AlphaGo Lee\r\n",
    "  * AlphaGo Master\r\n",
    "* AlphaGo Zero\r\n",
    "* AlphaZero\r\n",
    "\r\n",
    "AlphaZeroでは過去の棋譜がなくとも自己対局により学習できる."
   ],
   "metadata": {}
  }
 ],
 "metadata": {
  "orig_nbformat": 4,
  "language_info": {
   "name": "python"
  }
 },
 "nbformat": 4,
 "nbformat_minor": 2
}