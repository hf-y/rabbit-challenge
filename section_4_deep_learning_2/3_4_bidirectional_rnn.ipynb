{
 "cells": [
  {
   "cell_type": "markdown",
   "source": [
    "# Deep Learning Day 3"
   ],
   "metadata": {}
  },
  {
   "cell_type": "markdown",
   "source": [
    "## 4 双方向RNN"
   ],
   "metadata": {}
  },
  {
   "cell_type": "markdown",
   "source": [
    "### 4-1 要点"
   ],
   "metadata": {}
  },
  {
   "cell_type": "markdown",
   "source": [
    "双方向RNN（Bi-directional RNN, BiRNN）は入力系列を順方向から入力するRNNと逆方向から入力するRNNを組み合わせたネットワークである. 自然言語処理の他, 音声認識でよく用いられた."
   ],
   "metadata": {}
  },
  {
   "cell_type": "markdown",
   "source": [
    "### 4-2 考察など"
   ],
   "metadata": {}
  },
  {
   "cell_type": "markdown",
   "source": [
    "\r\n",
    "双方向RNNは以下の論文で提案された.\r\n",
    "\r\n",
    "* Schuster, Mike, and Kuldip K. Paliwal\r\n",
    "  * Bidirectional recurrent neural networks\r\n",
    "  * Signal Processing, IEEE Transactions on 45.11 (1997)"
   ],
   "metadata": {}
  }
 ],
 "metadata": {
  "orig_nbformat": 4,
  "language_info": {
   "name": "python"
  }
 },
 "nbformat": 4,
 "nbformat_minor": 2
}