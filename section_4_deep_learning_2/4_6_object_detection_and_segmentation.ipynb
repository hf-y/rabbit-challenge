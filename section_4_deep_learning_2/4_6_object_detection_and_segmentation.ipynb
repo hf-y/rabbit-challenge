{
 "cells": [
  {
   "cell_type": "markdown",
   "source": [
    "# Deep Learning Day 4"
   ],
   "metadata": {}
  },
  {
   "cell_type": "markdown",
   "source": [
    "## 6 物体検知とセグメンテーション"
   ],
   "metadata": {}
  },
  {
   "cell_type": "markdown",
   "source": [
    "### 6-1 要点"
   ],
   "metadata": {}
  },
  {
   "cell_type": "markdown",
   "source": [
    "物体検知は画像中のオブジェクトに対して, それを囲む矩形上の枠と認識した物体のクラスを与えるタスクである. 素朴には画像中の小領域に分類問題を適用していくイメージだが, 実用的な速度で動作させるために様々なアーキテクチャが開発された.\r\n",
    "\r\n",
    "セグメンテーションはピクセルごとにクラス分類問題を解く. ただし対象は画像中の領域すべてのことも一部のこともある. すべての領域で実施する場合はパノプティックセグメンテーションと呼ばれる. また, 同じクラスでもインスタンスごとに区別するかしないかという分け方があり, 区別する場合をインスタンスセグメンテーションと呼ぶ. 例えば複数人の人物が写っている写真に対して個々の人物を区別するケースである."
   ],
   "metadata": {}
  },
  {
   "cell_type": "markdown",
   "source": [
    "### 6-2 考察など"
   ],
   "metadata": {}
  },
  {
   "cell_type": "markdown",
   "source": [],
   "metadata": {}
  }
 ],
 "metadata": {
  "orig_nbformat": 4,
  "language_info": {
   "name": "python"
  }
 },
 "nbformat": 4,
 "nbformat_minor": 2
}