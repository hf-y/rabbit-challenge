{
 "cells": [
  {
   "cell_type": "markdown",
   "source": [
    "# Deep Learning Day 3"
   ],
   "metadata": {}
  },
  {
   "cell_type": "markdown",
   "source": [
    "## 3 GRU"
   ],
   "metadata": {}
  },
  {
   "cell_type": "markdown",
   "source": [
    "### 3-1 要点"
   ],
   "metadata": {}
  },
  {
   "cell_type": "markdown",
   "source": [
    "LSTMには様々な派生形があり, GRU（Gated Recurrent Unit）もそのひとつである. ゲートの数を減らすことで計算の効率化を試みている. ゲートの数はLSTMの３つから２つ（リセットゲートと更新ゲート）になった."
   ],
   "metadata": {}
  },
  {
   "cell_type": "markdown",
   "source": [
    "### 3-2 考察など"
   ],
   "metadata": {}
  },
  {
   "cell_type": "markdown",
   "source": [
    "次の論文ではLSTMとその派生について比較している.\r\n",
    "\r\n",
    "* K Greff et al.\r\n",
    "  * LSTM: A Search Space Odyssey\r\n",
    "  * [arXiv:1503.04069](https://arxiv.org/abs/1503.04069)"
   ],
   "metadata": {}
  }
 ],
 "metadata": {
  "orig_nbformat": 4,
  "language_info": {
   "name": "python"
  }
 },
 "nbformat": 4,
 "nbformat_minor": 2
}