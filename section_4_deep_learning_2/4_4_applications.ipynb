{
 "cells": [
  {
   "cell_type": "markdown",
   "source": [
    "# Deep Learning Day 4"
   ],
   "metadata": {}
  },
  {
   "cell_type": "markdown",
   "source": [
    "## 4 応用モデル"
   ],
   "metadata": {}
  },
  {
   "cell_type": "markdown",
   "source": [
    "### 4-1 要点"
   ],
   "metadata": {}
  },
  {
   "cell_type": "markdown",
   "source": [
    "音声認識などのタスクのために開発された深層学習モデルにWaveNetがある. AlphaGoを作ったDeepMindの研究である. これによって音声合成の技術が進化し, より自然な音声を合成できるようになった."
   ],
   "metadata": {}
  },
  {
   "cell_type": "markdown",
   "source": [
    "### 4-2 考察など"
   ],
   "metadata": {}
  },
  {
   "cell_type": "markdown",
   "source": [],
   "metadata": {}
  }
 ],
 "metadata": {
  "orig_nbformat": 4,
  "language_info": {
   "name": "python"
  }
 },
 "nbformat": 4,
 "nbformat_minor": 2
}