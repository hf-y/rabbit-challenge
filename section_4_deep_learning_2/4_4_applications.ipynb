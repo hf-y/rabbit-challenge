{
 "cells": [
  {
   "cell_type": "markdown",
   "source": [
    "# Deep Learning Day 4"
   ],
   "metadata": {}
  },
  {
   "cell_type": "markdown",
   "source": [
    "## 4 応用モデル"
   ],
   "metadata": {}
  },
  {
   "cell_type": "markdown",
   "source": [
    "### 4-1 要点"
   ],
   "metadata": {}
  },
  {
   "cell_type": "markdown",
   "source": [
    "ここではWaveNetを紹介する. WaveNetは音声認識などのタスクのために開発された深層学習モデルである. これによって音声合成の技術が進化し, より自然な音声を合成できるようになった. 開発元はAlphaGoを作ったDeepMind.\r\n",
    "\r\n",
    "特徴は音声という系列データなのにRNNを用いていないことである. 代わりにDilated Causal ConvolutionsというCNNを用いている. 層が深くなるにしたがって畳み込みを行うデータの時系列方向の間隔を倍にしている. また未来の情報を取り込まないように, ある層への入力は過去のデータのみにしている."
   ],
   "metadata": {}
  },
  {
   "cell_type": "markdown",
   "source": [
    "### 4-2 考察など"
   ],
   "metadata": {}
  },
  {
   "cell_type": "markdown",
   "source": [
    "以下が提案論文.\r\n",
    "\r\n",
    "* A. Oord, et al.\r\n",
    "  * WaveNet: A Generative Model for Raw Audio\r\n",
    "  * [arXiv:1609.03499](https://arxiv.org/abs/1609.03499)\r\n"
   ],
   "metadata": {}
  }
 ],
 "metadata": {
  "orig_nbformat": 4,
  "language_info": {
   "name": "python"
  }
 },
 "nbformat": 4,
 "nbformat_minor": 2
}